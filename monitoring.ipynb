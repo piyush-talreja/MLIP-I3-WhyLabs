{
 "cells": [
  {
   "cell_type": "code",
   "execution_count": 1,
   "id": "initial_id",
   "metadata": {
    "collapsed": true,
    "ExecuteTime": {
     "end_time": "2024-03-26T16:39:48.715644Z",
     "start_time": "2024-03-26T16:39:47.916184Z"
    }
   },
   "outputs": [
    {
     "name": "stdout",
     "output_type": "stream",
     "text": [
      "Requirement already satisfied: whylogs in ./.venv/lib/python3.9/site-packages (1.3.27)\r\n",
      "Requirement already satisfied: platformdirs<4.0.0,>=3.5.0 in ./.venv/lib/python3.9/site-packages (from whylogs) (3.11.0)\r\n",
      "Requirement already satisfied: protobuf>=3.19.4 in ./.venv/lib/python3.9/site-packages (from whylogs) (5.26.0)\r\n",
      "Requirement already satisfied: requests<3.0,>=2.27 in ./.venv/lib/python3.9/site-packages (from whylogs) (2.31.0)\r\n",
      "Requirement already satisfied: types-requests<3.0.0.0,>=2.30.0.0 in ./.venv/lib/python3.9/site-packages (from whylogs) (2.31.0.20240311)\r\n",
      "Requirement already satisfied: typing-extensions>=3.10 in ./.venv/lib/python3.9/site-packages (from whylogs) (4.10.0)\r\n",
      "Requirement already satisfied: whylabs-client<0.6.0,>=0.5.10 in ./.venv/lib/python3.9/site-packages (from whylogs) (0.5.10)\r\n",
      "Requirement already satisfied: whylogs-sketching>=3.4.1.dev3 in ./.venv/lib/python3.9/site-packages (from whylogs) (3.4.1.dev3)\r\n",
      "Requirement already satisfied: charset-normalizer<4,>=2 in ./.venv/lib/python3.9/site-packages (from requests<3.0,>=2.27->whylogs) (3.3.2)\r\n",
      "Requirement already satisfied: idna<4,>=2.5 in ./.venv/lib/python3.9/site-packages (from requests<3.0,>=2.27->whylogs) (3.6)\r\n",
      "Requirement already satisfied: urllib3<3,>=1.21.1 in ./.venv/lib/python3.9/site-packages (from requests<3.0,>=2.27->whylogs) (2.2.1)\r\n",
      "Requirement already satisfied: certifi>=2017.4.17 in ./.venv/lib/python3.9/site-packages (from requests<3.0,>=2.27->whylogs) (2024.2.2)\r\n",
      "Requirement already satisfied: python-dateutil in ./.venv/lib/python3.9/site-packages (from whylabs-client<0.6.0,>=0.5.10->whylogs) (2.9.0.post0)\r\n",
      "Requirement already satisfied: six>=1.5 in ./.venv/lib/python3.9/site-packages (from python-dateutil->whylabs-client<0.6.0,>=0.5.10->whylogs) (1.16.0)\r\n",
      "\r\n",
      "\u001B[1m[\u001B[0m\u001B[34;49mnotice\u001B[0m\u001B[1;39;49m]\u001B[0m\u001B[39;49m A new release of pip is available: \u001B[0m\u001B[31;49m23.2.1\u001B[0m\u001B[39;49m -> \u001B[0m\u001B[32;49m24.0\u001B[0m\r\n",
      "\u001B[1m[\u001B[0m\u001B[34;49mnotice\u001B[0m\u001B[1;39;49m]\u001B[0m\u001B[39;49m To update, run: \u001B[0m\u001B[32;49mpip install --upgrade pip\u001B[0m\r\n"
     ]
    }
   ],
   "source": [
    "!pip install whylogs"
   ]
  },
  {
   "cell_type": "code",
   "outputs": [],
   "source": [
    "import whylogs as why\n",
    "from whylogs.api.writer.whylabs import WhyLabsWriter\n",
    "import numpy as np\n",
    "import pandas as pd\n",
    "import datetime\n",
    "import os\n",
    "\n",
    "# set authentication & project keys\n",
    "os.environ[\"WHYLABS_DEFAULT_ORG_ID\"] = 'org-gS6frY'\n",
    "os.environ[\"WHYLABS_API_KEY\"] = 'BQCxVBBu66.hZxPJ8yRh9WpJSHa1alFuyJXPUKTUfmPsseHPKirVKUAj0ffdgDoq:org-gS6frY'\n",
    "os.environ[\"WHYLABS_DEFAULT_DATASET_ID\"] = 'model-6'"
   ],
   "metadata": {
    "collapsed": false,
    "ExecuteTime": {
     "end_time": "2024-03-26T19:41:23.430991Z",
     "start_time": "2024-03-26T19:41:23.427529Z"
    }
   },
   "id": "fceebd7c136feb34",
   "execution_count": 25
  },
  {
   "cell_type": "markdown",
   "source": [
    "## Load Data"
   ],
   "metadata": {
    "collapsed": false
   },
   "id": "f76c3cbac1fcdf2"
  },
  {
   "cell_type": "code",
   "outputs": [],
   "source": [
    " # Import data batches\n",
    "\n",
    "# Reference data\n",
    "X_batch_1 = pd.read_csv('data_2024-03-20.csv')\n",
    "\n",
    "# No Drift\n",
    "X_batch_2 = pd.read_csv('data_2024-03-21.csv')\n",
    "\n",
    "# No Drift\n",
    "X_batch_3 = pd.read_csv('data_2024-03-22.csv')\n",
    "\n",
    "# No Drift\n",
    "X_batch_4 = pd.read_csv('data_2024-03-23.csv')\n",
    "\n",
    "# Drift\n",
    "X_batch_5 = pd.read_csv('data_2024-03-24.csv')\n",
    "\n",
    "# Drift\n",
    "X_batch_6 = pd.read_csv('data_2024-03-25.csv')\n",
    "\n",
    "# Drift\n",
    "X_batch_7 = pd.read_csv('data_2024-03-26.csv')\n",
    "\n",
    "\n",
    "# Note that the order of the \n",
    "dfs = [X_batch_1, X_batch_2, X_batch_3, X_batch_4, X_batch_5, X_batch_6, X_batch_7]"
   ],
   "metadata": {
    "collapsed": false,
    "ExecuteTime": {
     "end_time": "2024-03-26T19:41:24.834963Z",
     "start_time": "2024-03-26T19:41:24.814102Z"
    }
   },
   "id": "4f5443053348f586",
   "execution_count": 26
  },
  {
   "cell_type": "code",
   "outputs": [
    {
     "data": {
      "text/plain": "    user_id  rating occupation movie_name    genre\n0      1098       2    Student    movie12    Drama\n1      1026       4     Doctor     movie8    Crime\n2      1069       2     Doctor    movie12    Drama\n3      1084       4     Lawyer    movie14  Fantasy\n4      1043       2    Student     movie8    Crime\n..      ...     ...        ...        ...      ...\n95     1023       2    Student    movie12    Drama\n96     1075       1   Engineer    movie14  Fantasy\n97     1032       3     Lawyer    movie10  Fantasy\n98     1093       3   Engineer     movie2    Crime\n99     1024       4    Student    movie12    Drama\n\n[100 rows x 5 columns]",
      "text/html": "<div>\n<style scoped>\n    .dataframe tbody tr th:only-of-type {\n        vertical-align: middle;\n    }\n\n    .dataframe tbody tr th {\n        vertical-align: top;\n    }\n\n    .dataframe thead th {\n        text-align: right;\n    }\n</style>\n<table border=\"1\" class=\"dataframe\">\n  <thead>\n    <tr style=\"text-align: right;\">\n      <th></th>\n      <th>user_id</th>\n      <th>rating</th>\n      <th>occupation</th>\n      <th>movie_name</th>\n      <th>genre</th>\n    </tr>\n  </thead>\n  <tbody>\n    <tr>\n      <th>0</th>\n      <td>1098</td>\n      <td>2</td>\n      <td>Student</td>\n      <td>movie12</td>\n      <td>Drama</td>\n    </tr>\n    <tr>\n      <th>1</th>\n      <td>1026</td>\n      <td>4</td>\n      <td>Doctor</td>\n      <td>movie8</td>\n      <td>Crime</td>\n    </tr>\n    <tr>\n      <th>2</th>\n      <td>1069</td>\n      <td>2</td>\n      <td>Doctor</td>\n      <td>movie12</td>\n      <td>Drama</td>\n    </tr>\n    <tr>\n      <th>3</th>\n      <td>1084</td>\n      <td>4</td>\n      <td>Lawyer</td>\n      <td>movie14</td>\n      <td>Fantasy</td>\n    </tr>\n    <tr>\n      <th>4</th>\n      <td>1043</td>\n      <td>2</td>\n      <td>Student</td>\n      <td>movie8</td>\n      <td>Crime</td>\n    </tr>\n    <tr>\n      <th>...</th>\n      <td>...</td>\n      <td>...</td>\n      <td>...</td>\n      <td>...</td>\n      <td>...</td>\n    </tr>\n    <tr>\n      <th>95</th>\n      <td>1023</td>\n      <td>2</td>\n      <td>Student</td>\n      <td>movie12</td>\n      <td>Drama</td>\n    </tr>\n    <tr>\n      <th>96</th>\n      <td>1075</td>\n      <td>1</td>\n      <td>Engineer</td>\n      <td>movie14</td>\n      <td>Fantasy</td>\n    </tr>\n    <tr>\n      <th>97</th>\n      <td>1032</td>\n      <td>3</td>\n      <td>Lawyer</td>\n      <td>movie10</td>\n      <td>Fantasy</td>\n    </tr>\n    <tr>\n      <th>98</th>\n      <td>1093</td>\n      <td>3</td>\n      <td>Engineer</td>\n      <td>movie2</td>\n      <td>Crime</td>\n    </tr>\n    <tr>\n      <th>99</th>\n      <td>1024</td>\n      <td>4</td>\n      <td>Student</td>\n      <td>movie12</td>\n      <td>Drama</td>\n    </tr>\n  </tbody>\n</table>\n<p>100 rows × 5 columns</p>\n</div>"
     },
     "execution_count": 27,
     "metadata": {},
     "output_type": "execute_result"
    }
   ],
   "source": [
    "# Display 1st batch\n",
    "X_batch_1"
   ],
   "metadata": {
    "collapsed": false,
    "ExecuteTime": {
     "end_time": "2024-03-26T19:41:25.335169Z",
     "start_time": "2024-03-26T19:41:25.332247Z"
    }
   },
   "id": "c2e6e31c7495cec",
   "execution_count": 27
  },
  {
   "cell_type": "markdown",
   "source": [
    "## Creating a Single Profile"
   ],
   "metadata": {
    "collapsed": false
   },
   "id": "49586e83c13ad92a"
  },
  {
   "cell_type": "code",
   "outputs": [],
   "source": [
    "import pytz"
   ],
   "metadata": {
    "collapsed": false,
    "ExecuteTime": {
     "end_time": "2024-03-26T19:41:26.504917Z",
     "start_time": "2024-03-26T19:41:26.498800Z"
    }
   },
   "id": "887e931023e552fa",
   "execution_count": 28
  },
  {
   "cell_type": "code",
   "outputs": [
    {
     "data": {
      "text/plain": "(True, 'log-WznDnitvJAhD2IjT')"
     },
     "execution_count": 29,
     "metadata": {},
     "output_type": "execute_result"
    }
   ],
   "source": [
    "# Single Profile\n",
    "dt = datetime.datetime(2024, 3, 20, 00, 00, tzinfo=pytz.UTC)\n",
    "\n",
    "writer = WhyLabsWriter()\n",
    "profile= why.log(X_batch_1)\n",
    "profile.set_dataset_timestamp(dt)\n",
    "writer.write(file=profile.view())"
   ],
   "metadata": {
    "collapsed": false,
    "ExecuteTime": {
     "end_time": "2024-03-26T19:41:28.780459Z",
     "start_time": "2024-03-26T19:41:27.019372Z"
    }
   },
   "id": "c2263a24f7de4079",
   "execution_count": 29
  },
  {
   "cell_type": "code",
   "outputs": [
    {
     "data": {
      "text/plain": "(True, 'log-gRIykIFPOPTT2UD2')"
     },
     "execution_count": 30,
     "metadata": {},
     "output_type": "execute_result"
    }
   ],
   "source": [
    "dt = datetime.datetime(2024, 3, 21, 00, 00, tzinfo=pytz.UTC)\n",
    "\n",
    "writer = WhyLabsWriter()\n",
    "profile= why.log(X_batch_2)\n",
    "profile.set_dataset_timestamp(dt)\n",
    "writer.write(file=profile.view())"
   ],
   "metadata": {
    "collapsed": false,
    "ExecuteTime": {
     "end_time": "2024-03-26T19:42:46.312531Z",
     "start_time": "2024-03-26T19:42:44.861890Z"
    }
   },
   "id": "173625834b859bdb",
   "execution_count": 30
  },
  {
   "cell_type": "code",
   "outputs": [
    {
     "data": {
      "text/plain": "(True, 'log-9iiEwHfZ4DlYMqpQ')"
     },
     "execution_count": 31,
     "metadata": {},
     "output_type": "execute_result"
    }
   ],
   "source": [
    "dt = datetime.datetime(2024, 3, 22, 00, 00, tzinfo=pytz.UTC)\n",
    "\n",
    "writer = WhyLabsWriter()\n",
    "profile= why.log(X_batch_3)\n",
    "profile.set_dataset_timestamp(dt)\n",
    "writer.write(file=profile.view())\n",
    "\n",
    "\n",
    "dt = datetime.datetime(2024, 3, 23, 00, 00, tzinfo=pytz.UTC)\n",
    "\n",
    "writer = WhyLabsWriter()\n",
    "profile= why.log(X_batch_4)\n",
    "profile.set_dataset_timestamp(dt)\n",
    "writer.write(file=profile.view())\n",
    "\n",
    "\n",
    "dt = datetime.datetime(2024, 3, 24, 00, 00, tzinfo=pytz.UTC)\n",
    "\n",
    "writer = WhyLabsWriter()\n",
    "profile= why.log(X_batch_5)\n",
    "profile.set_dataset_timestamp(dt)\n",
    "writer.write(file=profile.view())\n",
    "\n",
    "dt = datetime.datetime(2024, 3, 25, 00, 00, tzinfo=pytz.UTC)\n",
    "\n",
    "writer = WhyLabsWriter()\n",
    "profile= why.log(X_batch_6)\n",
    "profile.set_dataset_timestamp(dt)\n",
    "writer.write(file=profile.view())\n",
    "\n",
    "\n",
    "dt = datetime.datetime(2024, 3, 26, 00, 00, tzinfo=pytz.UTC)\n",
    "\n",
    "writer = WhyLabsWriter()\n",
    "profile= why.log(X_batch_7)\n",
    "profile.set_dataset_timestamp(dt)\n",
    "writer.write(file=profile.view())"
   ],
   "metadata": {
    "collapsed": false,
    "ExecuteTime": {
     "end_time": "2024-03-26T19:42:53.579129Z",
     "start_time": "2024-03-26T19:42:48.223339Z"
    }
   },
   "id": "5c65008dc3e8844c",
   "execution_count": 31
  },
  {
   "cell_type": "code",
   "outputs": [
    {
     "data": {
      "text/plain": "(True, 'log-pd5xCDLVU0LbV4Lm')"
     },
     "execution_count": 33,
     "metadata": {},
     "output_type": "execute_result"
    }
   ],
   "source": [
    "dt = datetime.datetime(2024, 3, 26, 3, 40, tzinfo=pytz.UTC)\n",
    "\n",
    "writer = WhyLabsWriter()\n",
    "profile= why.log(X_batch_7)\n",
    "profile.set_dataset_timestamp(dt)\n",
    "writer.write(file=profile.view())"
   ],
   "metadata": {
    "collapsed": false,
    "ExecuteTime": {
     "end_time": "2024-03-26T19:44:14.405269Z",
     "start_time": "2024-03-26T19:44:13.352189Z"
    }
   },
   "id": "e4ea29006e287dc6",
   "execution_count": 33
  },
  {
   "cell_type": "code",
   "outputs": [],
   "source": [],
   "metadata": {
    "collapsed": false
   },
   "id": "604389345b2d9656"
  }
 ],
 "metadata": {
  "kernelspec": {
   "display_name": "Python 3",
   "language": "python",
   "name": "python3"
  },
  "language_info": {
   "codemirror_mode": {
    "name": "ipython",
    "version": 2
   },
   "file_extension": ".py",
   "mimetype": "text/x-python",
   "name": "python",
   "nbconvert_exporter": "python",
   "pygments_lexer": "ipython2",
   "version": "2.7.6"
  }
 },
 "nbformat": 4,
 "nbformat_minor": 5
}
